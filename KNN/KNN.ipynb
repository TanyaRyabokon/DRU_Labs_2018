{
  "nbformat": 4,
  "nbformat_minor": 0,
  "metadata": {
    "colab": {
      "name": "Copy of KNN.ipynb",
      "version": "0.3.2",
      "views": {},
      "default_view": {},
      "provenance": [
        {
          "file_id": "1QhWzniNWyiP7Jt5Qywcw6vRJddHTG8V2",
          "timestamp": 1527631955066
        }
      ],
      "collapsed_sections": []
    },
    "kernelspec": {
      "display_name": "Python 3",
      "language": "python",
      "name": "python3"
    }
  },
  "cells": [
    {
      "metadata": {
        "id": "3fPKMUGvoSnw",
        "colab_type": "text"
      },
      "cell_type": "markdown",
      "source": [
        "# K-Nearest neighbours\n",
        "\n",
        "Welcome to your next lab! You will build a k-nearest neighbours classifier.\n",
        "\n",
        "You will implement this model in OOP way.\n",
        "\n",
        "**You will learn to:**\n",
        "- Build the general architecture of a learning algorithm with OOP in mind:\n",
        "    - Helper functions\n",
        "        - Calculating euclidian distance\n",
        "        - Finding labels of k-nearest neighbours\n",
        "    - Main Model Class\n",
        "        - Training\n",
        "        - Prediction "
      ]
    },
    {
      "metadata": {
        "id": "kB8G-M2MDvLc",
        "colab_type": "text"
      },
      "cell_type": "markdown",
      "source": [
        "## 1 - Packages ##\n",
        "\n",
        "First, let's run the cell below to import all the packages that you will need during this assignment. \n",
        "- [numpy](www.numpy.org) is the fundamental package for scientific computing with Python.\n",
        "- [matplotlib](http://matplotlib.org) is a famous library to plot graphs in Python."
      ]
    },
    {
      "metadata": {
        "id": "4YWD8gOQoSn1",
        "colab_type": "code",
        "colab": {
          "autoexec": {
            "startup": false,
            "wait_interval": 0
          }
        }
      },
      "cell_type": "code",
      "source": [
        "import numpy as np\n",
        "import matplotlib.pyplot as plt\n",
        "\n",
        "%matplotlib inline"
      ],
      "execution_count": 0,
      "outputs": []
    },
    {
      "metadata": {
        "id": "3WgdtGMZoSn3",
        "colab_type": "text"
      },
      "cell_type": "markdown",
      "source": [
        "## 2 - Overview of the Dataset  ##\n",
        "\n",
        "**Problem Statement**: You are given a dataset  containing:\n",
        "    - a training set of m_train examples\n",
        "    - a test set of m_test examples\n",
        "    - each example is of shape (number of features, 1)\n",
        "    \n",
        "    \n",
        "Iris Plants Database\n",
        "===========================\n",
        "\n",
        "Notes\n",
        "------\n",
        "Data Set Characteristics:  \n",
        "\n",
        "    :Number of Instances: 150 (50 in each of three classes)\n",
        "\n",
        "    :Number of Attributes: 4 numeric, predictive attributes and the class\n",
        "    \n",
        "    :Attribute Information:\n",
        "        - sepal length in cm\n",
        "        - sepal width in cm\n",
        "        - petal length in cm\n",
        "        - petal width in cm\n",
        "        - class:\n",
        "            - Iris-Setosa\n",
        "            - Iris-Versicolour\n",
        "            - Iris-Virginica\n",
        "        \n",
        "    :Missing Attribute Values: None   \n",
        "    \n",
        "    :Class Distribution: 33.3% for each of 3 classes.\n",
        "    \n",
        "    :Missing Attribute Values: None\n",
        "\n",
        "    :Creator: R.A. Fisher\n",
        "    \n",
        "    :Donor: Michael Marshall\n",
        "\n",
        "This is a copy of UCI ML iris datasets.http://archive.ics.uci.edu/ml/datasets/Iris\\ \n",
        "\n",
        "The famous Iris database, first used by Sir R.A Fisher.\n",
        "This is perhaps the best known database to be found in the pattern recognition literature.  Fisher's paper is a classic in the field and is referenced frequently to this day.  (See Duda & Hart, for example.)  The data set contains 3 classes of 50 instances each, where each class refers to a type of iris plant.  One class is linearly separable from the other 2; the latter are NOT linearly separable from each other.\n",
        "     \n",
        "**References**\n",
        "\n",
        "   - Fisher,R.A. \"The use of multiple measurements in taxonomic problems\" Annual Eugenics, 7, Part II, 179-188 (1936); also in \"Contributions to Mathematical Statistics\" (John Wiley, NY, 1950).\n",
        "   - Duda,R.O., & Hart,P.E. (1973) Pattern Classification and Scene Analysis.(Q327.D83) John Wiley & Sons.  ISBN 0-471-22361-1.  See page 218.  \n",
        "   - Dasarathy, B.V. (1980) \"Nosing Around the Neighborhood: A New System Structure and Classification Rule for Recognition in Partially Exposed Environments\".  IEEE Transactions on Pattern Analysis and Machine Intelligence, Vol. PAMI-2, No. 1, 67-71.\n",
        "   - Gates, G.W. (1972) \"The Reduced Nearest Neighbor Rule\". IEEE Transactions on Information Theory, May 1972, 431-433.\n",
        "   - See also: 1988 MLC Proceedings, 54-64.  Cheeseman et al\"s AUTOCLASS II conceptual clustering system finds 3 classes in the data.\n",
        "   - many more! (see https://archive.ics.uci.edu/ml/datasets/iris)',\n",
        "\n",
        "\n",
        "You will build a simple algorithm that can correctly classify training examples depending on your particular dataset.\n",
        "\n",
        "<b>Let's get more familiar with the dataset. Load the data by running the following code.<b>"
      ]
    },
    {
      "metadata": {
        "id": "XFcMycDXoSn3",
        "colab_type": "code",
        "colab": {
          "autoexec": {
            "startup": false,
            "wait_interval": 0
          }
        }
      },
      "cell_type": "code",
      "source": [
        "def load_data():\n",
        "    from sklearn.model_selection import train_test_split\n",
        "    from sklearn import datasets\n",
        "    \n",
        "    iris = datasets.load_iris()\n",
        "    \n",
        "    train_set_x, test_set_x, train_set_y, test_set_y = train_test_split(iris.data, iris.target, test_size=0.33, random_state=42)\n",
        "    \n",
        "    return train_set_x, test_set_x, train_set_y, test_set_y, iris\n",
        "\n",
        "train_set_x, test_set_x, train_set_y, test_set_y, visualization_set = load_data()"
      ],
      "execution_count": 0,
      "outputs": []
    },
    {
      "metadata": {
        "id": "T3W81DRfoSn6",
        "colab_type": "text"
      },
      "cell_type": "markdown",
      "source": [
        "Many software bugs in machine learning come from having matrix/vector dimensions that don't fit. If you can keep your matrix/vector dimensions straight you will go a long way toward eliminating many bugs. \n",
        "\n",
        "**Exercise:** Find the values for:\n",
        "    - m_train (number of training examples)\n",
        "    - m_test (number of test examples)\n",
        "    \n",
        "Remember that `train_set_x` is a numpy-array of shape (number of examples, number of features). For instance, you can access `m_train` by writing `train_set_x.shape[0]`."
      ]
    },
    {
      "metadata": {
        "id": "Tg5YOrDooSn6",
        "colab_type": "code",
        "colab": {
          "autoexec": {
            "startup": false,
            "wait_interval": 0
          },
          "base_uri": "https://localhost:8080/",
          "height": 119
        },
        "outputId": "af5c7177-93b6-46ae-f135-0656b14a4fba",
        "executionInfo": {
          "status": "ok",
          "timestamp": 1527770922831,
          "user_tz": -180,
          "elapsed": 717,
          "user": {
            "displayName": "Анастасия Куцык",
            "photoUrl": "//lh4.googleusercontent.com/-ulsJVyZZyKo/AAAAAAAAAAI/AAAAAAAABJQ/UJjvXCFmj9w/s50-c-k-no/photo.jpg",
            "userId": "110879980818764228069"
          }
        }
      },
      "cell_type": "code",
      "source": [
        "### START CODE HERE ### (≈ 2 lines of code)\n",
        "m_train = train_set_x.shape[0]\n",
        "m_test =  test_set_x.shape[0]\n",
        "### END CODE HERE ###\n",
        "\n",
        "print (\"Number of training examples: m_train = \" + str(m_train))\n",
        "print (\"Number of testing examples: m_test = \" + str(m_test))\n",
        "\n",
        "print (\"train_set_x shape: \" + str(train_set_x.shape))\n",
        "print (\"train_set_y shape: \" + str(train_set_y.shape))\n",
        "print (\"test_set_x shape: \" + str(test_set_x.shape))\n",
        "print (\"test_set_y shape: \" + str(test_set_y.shape))"
      ],
      "execution_count": 3,
      "outputs": [
        {
          "output_type": "stream",
          "text": [
            "Number of training examples: m_train = 100\n",
            "Number of testing examples: m_test = 50\n",
            "train_set_x shape: (100, 4)\n",
            "train_set_y shape: (100,)\n",
            "test_set_x shape: (50, 4)\n",
            "test_set_y shape: (50,)\n"
          ],
          "name": "stdout"
        }
      ]
    },
    {
      "metadata": {
        "id": "UScGW9o7oSn9",
        "colab_type": "text"
      },
      "cell_type": "markdown",
      "source": [
        "**Expected Output for m_train, m_test**: \n",
        "<table style=\"width:15%\">\n",
        "  <tr>\n",
        "    <td>**m_train**</td>\n",
        "    <td> 100 </td> \n",
        "  </tr>\n",
        "  \n",
        "  <tr>\n",
        "    <td>**m_test**</td>\n",
        "    <td> 50 </td> \n",
        "  </tr>\n",
        "  \n",
        "\n",
        "  \n",
        "</table>"
      ]
    },
    {
      "metadata": {
        "id": "zJkv5yeLoSn9",
        "colab_type": "text"
      },
      "cell_type": "markdown",
      "source": [
        "### Data visualization"
      ]
    },
    {
      "metadata": {
        "id": "XzvXXFZkoSn-",
        "colab_type": "text"
      },
      "cell_type": "markdown",
      "source": [
        "Let's print a histogram of the quantity to predict: class"
      ]
    },
    {
      "metadata": {
        "id": "QHk6VAE8oSn_",
        "colab_type": "code",
        "colab": {
          "autoexec": {
            "startup": false,
            "wait_interval": 0
          },
          "base_uri": "https://localhost:8080/",
          "height": 225
        },
        "outputId": "cc4db2bc-ee90-400a-8d18-e8835621e440",
        "executionInfo": {
          "status": "ok",
          "timestamp": 1527770925683,
          "user_tz": -180,
          "elapsed": 687,
          "user": {
            "displayName": "Анастасия Куцык",
            "photoUrl": "//lh4.googleusercontent.com/-ulsJVyZZyKo/AAAAAAAAAAI/AAAAAAAABJQ/UJjvXCFmj9w/s50-c-k-no/photo.jpg",
            "userId": "110879980818764228069"
          }
        }
      },
      "cell_type": "code",
      "source": [
        "plt.figure(figsize=(4, 3))\n",
        "plt.hist(visualization_set.target)\n",
        "plt.xlabel(\"Class\")\n",
        "plt.ylabel(\"Count\")\n",
        "plt.tight_layout()"
      ],
      "execution_count": 4,
      "outputs": [
        {
          "output_type": "display_data",
          "data": {
            "image/png": "[encoded data removed]",
            "text/plain": [
              "<matplotlib.figure.Figure at 0x7f50eca47b00>"
            ]
          },
          "metadata": {
            "tags": []
          }
        }
      ]
    },
    {
      "metadata": {
        "id": "Q34hprotoSoA",
        "colab_type": "text"
      },
      "cell_type": "markdown",
      "source": [
        "And it is very useful to understand the join distribution for each feature\n"
      ]
    },
    {
      "metadata": {
        "id": "LwEWS5RYoSoB",
        "colab_type": "code",
        "colab": {
          "autoexec": {
            "startup": false,
            "wait_interval": 0
          },
          "base_uri": "https://localhost:8080/",
          "height": 849
        },
        "outputId": "84b1f9f0-abcc-4ea8-955a-d6a18fccacf3",
        "executionInfo": {
          "status": "ok",
          "timestamp": 1527770927767,
          "user_tz": -180,
          "elapsed": 1005,
          "user": {
            "displayName": "Анастасия Куцык",
            "photoUrl": "//lh4.googleusercontent.com/-ulsJVyZZyKo/AAAAAAAAAAI/AAAAAAAABJQ/UJjvXCFmj9w/s50-c-k-no/photo.jpg",
            "userId": "110879980818764228069"
          }
        }
      },
      "cell_type": "code",
      "source": [
        "for index, feature_name in enumerate(visualization_set.feature_names):\n",
        "    plt.figure(figsize=(4, 3))\n",
        "    plt.scatter(visualization_set.data[:, index], visualization_set.target)\n",
        "    plt.ylabel(\"Class\", size=15)\n",
        "    plt.xlabel(feature_name, size=15)\n",
        "    plt.tight_layout()"
      ],
      "execution_count": 5,
      "outputs": [
        {
          "output_type": "display_data",
          "data": {
            "image/png": "[encoded data removed]",
            "text/plain": [
              "<matplotlib.figure.Figure at 0x7f50e8321278>"
            ]
          },
          "metadata": {
            "tags": []
          }
        },
        {
          "output_type": "display_data",
          "data": {
            "image/png": "[encoded data removed]",
            "text/plain": [
              "<matplotlib.figure.Figure at 0x7f50e8311e48>"
            ]
          },
          "metadata": {
            "tags": []
          }
        },
        {
          "output_type": "display_data",
          "data": {
            "image/png": "[encoded data removed]",
            "text/plain": [
              "<matplotlib.figure.Figure at 0x7f50e82600b8>"
            ]
          },
          "metadata": {
            "tags": []
          }
        },
        {
          "output_type": "display_data",
          "data": {
            "image/png": "[encoded data removed]",
            "text/plain": [
              "<matplotlib.figure.Figure at 0x7f50e823fd68>"
            ]
          },
          "metadata": {
            "tags": []
          }
        }
      ]
    },
    {
      "metadata": {
        "id": "l6v8Z_PfoSoE",
        "colab_type": "text"
      },
      "cell_type": "markdown",
      "source": [
        "<font color='green'>\n",
        "**What you need to remember:**\n",
        "\n",
        "Common steps for pre-processing a new dataset are:\n",
        "- Figure out the dimensions and shapes of the problem (m_train, m_test, ...)\n",
        "- Reshape the datasets such that each example is now a vector of size (n, 1)\n",
        "- \"Standardize\" the data"
      ]
    },
    {
      "metadata": {
        "id": "AVXotD0AoSoF",
        "colab_type": "text"
      },
      "cell_type": "markdown",
      "source": [
        "## 3 - General Architecture of the learning algorithm ##\n",
        "\n",
        "The K-nearest neighbours algorithm essentially boils down to forming a majority vote between the K most similar instances to a given \"unseen\" observation. \n",
        "\n",
        "**Mathematical expression of the algorithm**:\n",
        "\n",
        "Similarity is defined according to a distance metric between two data points. Let's use the Euclidean distance given by\n",
        "\n",
        "\n",
        "$$d(x, {x}') = \\sqrt{(x_{1} - {x}'_{1})^2 + ... + (x_{n} - {x}'_{n})^2} \\tag{1}$$\n",
        "\n",
        "More formally, given a positive integer K, an unseen observation x and a similarity metric d, KNN classifier performs the following two steps:\n",
        "\n",
        "   - It runs through the whole dataset computing distance $d$ between each unseen point $x$ and each training observation. We'll take the K points in the training data that are closest to $x$ in the set of unseen points $\\mathcal{A}$. \n",
        "\n",
        "   - Then it estimates the conditional probability for each class, that is the fraction of points in $\\mathcal{A}$ with that given class label. (Note $I(x)$ is the indicator function which evaluates to 1 when the argument $x$ is true and 0 otherwise)\n",
        "   \n",
        "   $$P(y = j | X = x) = \\frac{1}{K} \\sum_{i \\in \\mathcal{A}} I(y^{(i)} = j)\\tag{2}$$\n",
        "   Finally, input x gets assigned to the class with the largest probability.\n",
        "   \n",
        "**Key steps**:\n",
        "In this exercise, you will carry out the following steps: \n",
        "    - Calculate euclidian distances\n",
        "    - Find k-nearest neighbours' labels\n",
        "    - Use the learned parameters to make predictions (on the test set)\n",
        "    - Analyse the results and conclude"
      ]
    },
    {
      "metadata": {
        "id": "w52cmoSYoSoF",
        "colab_type": "text"
      },
      "cell_type": "markdown",
      "source": [
        "### 3.1 - Helper utilities###\n",
        "\n",
        "\n",
        "In this exercise, you will lear more about custom implemenation:\n",
        "\n",
        "- Calculating Euclidian Distances\n",
        "- Finding k-nearest neghbours' labesls\n",
        "\n",
        "\n",
        "Let's get more detailed look at these functions:"
      ]
    },
    {
      "metadata": {
        "id": "GLSL0alwoSoG",
        "colab_type": "text"
      },
      "cell_type": "markdown",
      "source": [
        "Implement calculation of the Euclidean distance in the cell below. You have to calculate distances from all unknown points to all known."
      ]
    },
    {
      "metadata": {
        "id": "5RqfrjRioSoH",
        "colab_type": "code",
        "colab": {
          "autoexec": {
            "startup": false,
            "wait_interval": 0
          }
        }
      },
      "cell_type": "code",
      "source": [
        "# euclidian distance\n",
        "\n",
        "def euclidian_dist(x_known,x_unknown):\n",
        "    \"\"\"\n",
        "    This function calculates euclidian distance between each pairs of known and unknown points\n",
        "    \n",
        "    Argument:\n",
        "    x_known -- array of training data with shape (num_examples, num_features)\n",
        "    x_unknown -- array of test data with shape (num_examples, num_features)\n",
        "    \n",
        "    Returns:\n",
        "    dists -- array of euclidian distances between each pairs of known and unknown points, \n",
        "    initialized as np.array of zeros with shape of (num_pred,num_data)\n",
        "    \n",
        "    \"\"\"\n",
        "    num_pred = x_unknown.shape[0]\n",
        "    num_data = x_known.shape[0]\n",
        "    \n",
        "    \n",
        "    ### START CODE HERE ### (≈ 1 line of code)\n",
        "    dists = np.zeros((num_pred, num_data))\n",
        "    ### END CODE HERE ###\n",
        "\n",
        "    for i in range(num_pred):\n",
        "        for j in range(num_data):\n",
        "            # calculate euclidian distance here\n",
        "            ### START CODE HERE ### (≈ 1-2 lines of code)\n",
        "            dists[i,j] = np.sqrt(np.sum( (x_known[j,:] - x_unknown[i,:])**2 ))\n",
        "            ### END CODE HERE ###\n",
        "            \n",
        "    return dists"
      ],
      "execution_count": 0,
      "outputs": []
    },
    {
      "metadata": {
        "id": "KIUqM1UPoSoJ",
        "colab_type": "code",
        "colab": {
          "autoexec": {
            "startup": false,
            "wait_interval": 0
          },
          "base_uri": "https://localhost:8080/",
          "height": 68
        },
        "outputId": "58b55502-89f1-4f1a-9a1a-8f6cbf690c97",
        "executionInfo": {
          "status": "ok",
          "timestamp": 1527770935721,
          "user_tz": -180,
          "elapsed": 737,
          "user": {
            "displayName": "Анастасия Куцык",
            "photoUrl": "//lh4.googleusercontent.com/-ulsJVyZZyKo/AAAAAAAAAAI/AAAAAAAABJQ/UJjvXCFmj9w/s50-c-k-no/photo.jpg",
            "userId": "110879980818764228069"
          }
        }
      },
      "cell_type": "code",
      "source": [
        "x1 = np.array([[1,1], [3,3], [4, 4]])\n",
        "x2 = np.array([[2,2],[3,3], [5, 5]])\n",
        "d = euclidian_dist(x1, x2)\n",
        "print(d)"
      ],
      "execution_count": 7,
      "outputs": [
        {
          "output_type": "stream",
          "text": [
            "[[1.41421356 1.41421356 2.82842712]\n",
            " [2.82842712 0.         1.41421356]\n",
            " [5.65685425 2.82842712 1.41421356]]\n"
          ],
          "name": "stdout"
        }
      ]
    },
    {
      "metadata": {
        "id": "l-cgD2zJoSoL",
        "colab_type": "text"
      },
      "cell_type": "markdown",
      "source": [
        "**Expected Output**: \n",
        "<table style=\"width:25%\">\n",
        "  <tr>\n",
        "    <td> [[1.41421356 1.41421356 2.82842712] </td> \n",
        "  </tr>\n",
        "  <tr>\n",
        "    <td>[2.82842712 0.         1.41421356] </td> \n",
        "  </tr>\n",
        "  <tr>\n",
        "    <td> [5.65685425 2.82842712 1.41421356]] </td> \n",
        "  </tr>\n",
        "\n",
        "  \n",
        "</table>"
      ]
    },
    {
      "metadata": {
        "id": "qD8xm5WWoSoM",
        "colab_type": "text"
      },
      "cell_type": "markdown",
      "source": [
        "Implement function that returns labels of k-nearest neighbours to each sample for unknown data. "
      ]
    },
    {
      "metadata": {
        "id": "VscNxLABoSoN",
        "colab_type": "code",
        "colab": {
          "autoexec": {
            "startup": false,
            "wait_interval": 0
          }
        }
      },
      "cell_type": "code",
      "source": [
        "# k nearest labels\n",
        "\n",
        "def k_nearest_labels(dists, y_known, k):\n",
        "    \"\"\"\n",
        "    This function returns labels of k-nearest neighbours to each sample for unknown data.\n",
        "    \n",
        "    Argument:\n",
        "    dists -- array of euclidian distances between each pairs of known and unknown points\n",
        "        with shpe (num_test_examples, num_train_examples)\n",
        "    y_known -- array of train data labels\n",
        "    k -- scalar, which means number of nearest neighbours\n",
        "    \n",
        "    Returns:\n",
        "    knearest_labels -- array with shape (num_samples, k) which contains labels of k nearest neighbours for each sample \n",
        "    \n",
        "    \"\"\"\n",
        "        \n",
        "    num_pred = dists.shape[0]\n",
        "    n_nearest = []\n",
        "    \n",
        "    for j in range(num_pred):\n",
        "        dst = dists[j]\n",
        "        \n",
        "        # count k closest points \n",
        "        ### START CODE HERE ### (≈ 1-2 lines of code)\n",
        "        closest_y = y_known[np.argsort(dists[j,:])[:k]]\n",
        "        ### END CODE HERE ###\n",
        "        \n",
        "        n_nearest.append(closest_y)\n",
        "    return np.asarray(n_nearest) "
      ],
      "execution_count": 0,
      "outputs": []
    },
    {
      "metadata": {
        "id": "0II_W0qsoSoO",
        "colab_type": "code",
        "colab": {
          "autoexec": {
            "startup": false,
            "wait_interval": 0
          },
          "base_uri": "https://localhost:8080/",
          "height": 68
        },
        "outputId": "14262151-8924-4278-ff0f-11fa9d932610",
        "executionInfo": {
          "status": "ok",
          "timestamp": 1527770940534,
          "user_tz": -180,
          "elapsed": 643,
          "user": {
            "displayName": "Анастасия Куцык",
            "photoUrl": "//lh4.googleusercontent.com/-ulsJVyZZyKo/AAAAAAAAAAI/AAAAAAAABJQ/UJjvXCFmj9w/s50-c-k-no/photo.jpg",
            "userId": "110879980818764228069"
          }
        }
      },
      "cell_type": "code",
      "source": [
        "y = np.array([2, 3, 1])\n",
        "knl = k_nearest_labels(d, y, 2)\n",
        "print(knl)"
      ],
      "execution_count": 9,
      "outputs": [
        {
          "output_type": "stream",
          "text": [
            "[[2 3]\n",
            " [3 1]\n",
            " [1 3]]\n"
          ],
          "name": "stdout"
        }
      ]
    },
    {
      "metadata": {
        "id": "nhcSOwbdoSoR",
        "colab_type": "text"
      },
      "cell_type": "markdown",
      "source": [
        "**Expected Output**:\n",
        "    \n",
        "<table style=\"width:15%\">\n",
        "  <tr>\n",
        "    <td>[[2 3] </td> \n",
        "  </tr>\n",
        "  <tr>\n",
        "    <td>[3 1] </td> \n",
        "  </tr>\n",
        "  <tr>\n",
        "    <td>[1 3]] </td> \n",
        "    </tr>\n",
        "\n",
        "</table>"
      ]
    },
    {
      "metadata": {
        "id": "Y8UWJSEWoSoR",
        "colab_type": "text"
      },
      "cell_type": "markdown",
      "source": [
        "### 3.2 Model"
      ]
    },
    {
      "metadata": {
        "id": "zqWZtW6zoSoU",
        "colab_type": "code",
        "colab": {
          "autoexec": {
            "startup": false,
            "wait_interval": 0
          }
        }
      },
      "cell_type": "code",
      "source": [
        "# GRADED CLASS: K-nearest Neighbours\n",
        "\n",
        "class KNearest_Neighbours(object):\n",
        "    \"\"\"\n",
        "    Parameters:\n",
        "    -----------\n",
        "    k: int\n",
        "        The number of nearest neighbours\n",
        "    \"\"\"\n",
        "    def __init__(self, k):\n",
        "        \n",
        "        self.k = k\n",
        "        self.test_set_x = None\n",
        "        self.train_set_x = None\n",
        "        self.train_set_y = None\n",
        "\n",
        "        \n",
        "    def fit(self, train_set_x, train_set_y):\n",
        "        \n",
        "        ### START CODE HERE ### \n",
        "        self.train_set_x = train_set_x\n",
        "        self.train_set_y = train_set_y\n",
        "        \n",
        "\n",
        "        \n",
        "        ### END CODE HERE ###\n",
        "        \n",
        "    def predict(self, test_set_x):\n",
        "        \n",
        "        # Returns list of predicted labels for test set; type(prediction) -> list, len(prediction) = len(test_set_y)\n",
        "        ### START CODE HERE ### (≈ 1 line of code)\n",
        "        \n",
        "        d =  k_nearest_labels(euclidian_dist(self.train_set_x, test_set_x), self.train_set_y, self.k)\n",
        "        return d[:, 0]\n",
        "        ### END CODE HERE ###\n"
      ],
      "execution_count": 0,
      "outputs": []
    },
    {
      "metadata": {
        "id": "HtW3c0iGoSoV",
        "colab_type": "text"
      },
      "cell_type": "markdown",
      "source": [
        "## 4 - Training"
      ]
    },
    {
      "metadata": {
        "id": "VmKBX48BoSoW",
        "colab_type": "text"
      },
      "cell_type": "markdown",
      "source": [
        "First of all, we should define a number of nearest neighbours (k)."
      ]
    },
    {
      "metadata": {
        "id": "mVRGoEajoSoX",
        "colab_type": "code",
        "colab": {
          "autoexec": {
            "startup": false,
            "wait_interval": 0
          }
        }
      },
      "cell_type": "code",
      "source": [
        "k = 4"
      ],
      "execution_count": 0,
      "outputs": []
    },
    {
      "metadata": {
        "id": "r1YBaP4RoSoY",
        "colab_type": "text"
      },
      "cell_type": "markdown",
      "source": [
        "Now we can initialize our model:"
      ]
    },
    {
      "metadata": {
        "id": "h_TdFusyoSoZ",
        "colab_type": "code",
        "colab": {
          "autoexec": {
            "startup": false,
            "wait_interval": 0
          }
        }
      },
      "cell_type": "code",
      "source": [
        "model = KNearest_Neighbours(k)"
      ],
      "execution_count": 0,
      "outputs": []
    },
    {
      "metadata": {
        "id": "agaOZ4_goSob",
        "colab_type": "text"
      },
      "cell_type": "markdown",
      "source": [
        "Let's train our model:"
      ]
    },
    {
      "metadata": {
        "id": "G2epO9r-oSoc",
        "colab_type": "code",
        "colab": {
          "autoexec": {
            "startup": false,
            "wait_interval": 0
          }
        }
      },
      "cell_type": "code",
      "source": [
        "model.fit(train_set_x, train_set_y)"
      ],
      "execution_count": 0,
      "outputs": []
    },
    {
      "metadata": {
        "id": "rHvVMX-aoSof",
        "colab_type": "text"
      },
      "cell_type": "markdown",
      "source": [
        "## 5 - Making predictions"
      ]
    },
    {
      "metadata": {
        "id": "QMan77feoSog",
        "colab_type": "code",
        "colab": {
          "autoexec": {
            "startup": false,
            "wait_interval": 0
          }
        }
      },
      "cell_type": "code",
      "source": [
        "y_predictions = model.predict(test_set_x)"
      ],
      "execution_count": 0,
      "outputs": []
    },
    {
      "metadata": {
        "id": "04LRBO_BoSoj",
        "colab_type": "text"
      },
      "cell_type": "markdown",
      "source": [
        "Let's calculate accuracy (accuracy of model must be > 0.95):"
      ]
    },
    {
      "metadata": {
        "id": "epQsquZ8oSoj",
        "colab_type": "code",
        "colab": {
          "autoexec": {
            "startup": false,
            "wait_interval": 0
          },
          "base_uri": "https://localhost:8080/",
          "height": 34
        },
        "outputId": "c5ebd010-ae2d-4de3-e18b-d1c414899544",
        "executionInfo": {
          "status": "ok",
          "timestamp": 1527773974363,
          "user_tz": -180,
          "elapsed": 519,
          "user": {
            "displayName": "Анастасия Куцык",
            "photoUrl": "//lh4.googleusercontent.com/-ulsJVyZZyKo/AAAAAAAAAAI/AAAAAAAABJQ/UJjvXCFmj9w/s50-c-k-no/photo.jpg",
            "userId": "110879980818764228069"
          }
        }
      },
      "cell_type": "code",
      "source": [
        "actual = list(test_set_y)\n",
        "accuracy = (y_predictions == test_set_y).mean()\n",
        "print(accuracy)"
      ],
      "execution_count": 53,
      "outputs": [
        {
          "output_type": "stream",
          "text": [
            "0.98\n"
          ],
          "name": "stdout"
        }
      ]
    },
    {
      "metadata": {
        "id": "0GUUxwmuoSol",
        "colab_type": "text"
      },
      "cell_type": "markdown",
      "source": [
        "Let's check the difference between real and predicted labels:"
      ]
    },
    {
      "metadata": {
        "id": "tUzqLPzDoSom",
        "colab_type": "code",
        "colab": {
          "autoexec": {
            "startup": false,
            "wait_interval": 0
          },
          "base_uri": "https://localhost:8080/",
          "height": 849
        },
        "outputId": "29d9a336-e385-4237-e248-450090063c58",
        "executionInfo": {
          "status": "ok",
          "timestamp": 1527773980597,
          "user_tz": -180,
          "elapsed": 970,
          "user": {
            "displayName": "Анастасия Куцык",
            "photoUrl": "//lh4.googleusercontent.com/-ulsJVyZZyKo/AAAAAAAAAAI/AAAAAAAABJQ/UJjvXCFmj9w/s50-c-k-no/photo.jpg",
            "userId": "110879980818764228069"
          }
        }
      },
      "cell_type": "code",
      "source": [
        "for index, feature_name in enumerate(visualization_set.feature_names):\n",
        "    plt.figure(figsize=(4, 3))\n",
        "    plt.scatter(test_set_x[:, index], test_set_y) # real labels\n",
        "    plt.scatter(test_set_x[:, index], y_predictions) # predicted labels\n",
        "    plt.ylabel(\"Class\", size=15)\n",
        "    plt.xlabel(feature_name, size=15)\n",
        "    plt.tight_layout()"
      ],
      "execution_count": 54,
      "outputs": [
        {
          "output_type": "display_data",
          "data": {
            "image/png": "[encoded data removed]",
            "text/plain": [
              "<matplotlib.figure.Figure at 0x7f50e814da20>"
            ]
          },
          "metadata": {
            "tags": []
          }
        },
        {
          "output_type": "display_data",
          "data": {
            "image/png": "[encoded data removed]",
            "text/plain": [
              "<matplotlib.figure.Figure at 0x7f50e82d9a20>"
            ]
          },
          "metadata": {
            "tags": []
          }
        },
        {
          "output_type": "display_data",
          "data": {
            "image/png": "[encoded data removed]",
            "text/plain": [
              "<matplotlib.figure.Figure at 0x7f50fed61a90>"
            ]
          },
          "metadata": {
            "tags": []
          }
        },
        {
          "output_type": "display_data",
          "data": {
            "image/png": "[encoded data removed]",
            "text/plain": [
              "<matplotlib.figure.Figure at 0x7f50e81a4a58>"
            ]
          },
          "metadata": {
            "tags": []
          }
        }
      ]
    },
    {
      "metadata": {
        "id": "cKKdyvXpoSop",
        "colab_type": "text"
      },
      "cell_type": "markdown",
      "source": [
        "## 6 - Conclusion\n",
        "As we can see, our model fits well to the data.\n",
        "\n",
        "#### What's next:\n",
        "1. Try experimenting with the `k` to see how this affects the model you have built.\n",
        "2. Compare the results you have obtained with the `sklearn.neighbors.KNeighborsClassifier` model.\n",
        "3. Try this model in the wild! Select your favorite dataset [here](https://www.kaggle.com/datasets?sortBy=hottest&group=public&page=1&pageSize=20&size=small&filetype=all&license=all&tagids=13303) and play with it."
      ]
    }
  ]
}