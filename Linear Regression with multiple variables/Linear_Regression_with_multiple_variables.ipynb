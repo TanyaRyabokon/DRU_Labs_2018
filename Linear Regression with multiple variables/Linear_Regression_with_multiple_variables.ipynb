{
  "nbformat": 4,
  "nbformat_minor": 0,
  "metadata": {
    "colab": {
      "name": "Copy of Linear_Regression_with_multiple_variables.ipynb",
      "version": "0.3.2",
      "views": {},
      "default_view": {},
      "provenance": [
        {
          "file_id": "1OHQoCW1pTxvS2FA3XD1MSpL5QaobvbSg",
          "timestamp": 1527514062543
        }
      ],
      "collapsed_sections": []
    },
    "kernelspec": {
      "display_name": "Python 3",
      "language": "python",
      "name": "python3"
    }
  },
  "cells": [
    {
      "metadata": {
        "id": "2L17PKeA7pDA",
        "colab_type": "text"
      },
      "cell_type": "markdown",
      "source": [
        "# Linear Regression with multiple variables\n",
        "\n",
        "Welcome to your second lab! You will build more advanced linear regression algorithm capable of handling any amount of features.\n",
        "\n",
        "You will be predicting house prices given Boston house prices dataset.\n",
        "\n",
        "**Instructions:**\n",
        "- Do not use loops (for/while) in your code, unless the instructions explicitly ask you to do so.\n",
        "\n",
        "**You will learn to:**\n",
        "- Build the general architecture of a learning algorithm, including:\n",
        "    - Initializing parameters\n",
        "    - Calculating the cost function and its gradient\n",
        "    - Using an optimization algorithm (gradient descent) \n",
        "- Gather all three functions above into a main model function, in the right order."
      ]
    },
    {
      "metadata": {
        "id": "HuUGKQZy7pDC",
        "colab_type": "text"
      },
      "cell_type": "markdown",
      "source": [
        "## 1 - Packages ##\n",
        "\n",
        "First, let's run the cell below to import all the packages that you will need during this assignment.\n",
        "- [numpy](www.numpy.org) is the fundamental package for scientific computing with Python.\n",
        "- [matplotlib](http://matplotlib.org) is a famous library to plot graphs in Python."
      ]
    },
    {
      "metadata": {
        "id": "K1MvqHN77pDE",
        "colab_type": "code",
        "colab": {
          "autoexec": {
            "startup": false,
            "wait_interval": 0
          }
        }
      },
      "cell_type": "code",
      "source": [
        "import numpy as np\n",
        "import matplotlib.pyplot as plt\n",
        "\n",
        "%matplotlib inline"
      ],
      "execution_count": 0,
      "outputs": []
    },
    {
      "metadata": {
        "id": "QhzytspJ7pDK",
        "colab_type": "text"
      },
      "cell_type": "markdown",
      "source": [
        "## 2 - Overview of the Dataset ##\n",
        "\n",
        "**Problem Statement**: You are given a dataset  containing:\n",
        "    - a training set of m_train examples\n",
        "    - a test set of m_test examples\n",
        "    - each example is of shape (number of features, 1)\n",
        "\n",
        "\n",
        "Boston House Prices dataset\n",
        "===========================\n",
        "\n",
        "Notes\n",
        "------\n",
        "Data Set Characteristics:  \n",
        "\n",
        "    :Number of Instances: 506 \n",
        "\n",
        "    :Number of Attributes: 13 numeric/categorical predictive\n",
        "    \n",
        "    :Median Value (attribute 14) is usually the target\n",
        "\n",
        "    :Attribute Information (in order):\n",
        "        - CRIM     per capita crime rate by town\n",
        "        - ZN       proportion of residential land zoned for lots over 25,000 sq.ft.\n",
        "        - INDUS    proportion of non-retail business acres per town\n",
        "        - CHAS     Charles River dummy variable (= 1 if tract bounds river; 0 otherwise)\n",
        "        - NOX      nitric oxides concentration (parts per 10 million)\n",
        "        - RM       average number of rooms per dwelling\n",
        "        - AGE      proportion of owner-occupied units built prior to 1940\n",
        "        - DIS      weighted distances to five Boston employment centres\n",
        "        - RAD      index of accessibility to radial highways\n",
        "        - TAX      full-value property-tax rate per $10,000\n",
        "    - PTRATIO  pupil-teacher ratio by town\n",
        "    - B        1000(Bk - 0.63)^2 where Bk is the proportion of blacks by town\n",
        "    - LSTAT    % lower status of the population\n",
        "    - MEDV     Median value of owner-occupied homes in $1000's\n",
        "\n",
        "    :Missing Attribute Values: None\n",
        "\n",
        "    :Creator: Harrison, D. and Rubinfeld, D.L.\n",
        "\n",
        "This is a copy of UCI ML housing dataset.\n",
        "https://archive.ics.uci.edu/ml/machine-learning-databases/housing/\n",
        "\n",
        "\n",
        "This dataset was taken from the StatLib library which is maintained at Carnegie Mellon University.\n",
        "\n",
        "The Boston house-price data of Harrison, D. and Rubinfeld, D.L. 'Hedonic\n",
        "prices and the demand for clean air', J. Environ. Economics & Management,\n",
        "vol.5, 81-102, 1978.   Used in Belsley, Kuh & Welsch, 'Regression diagnostics\n",
        "...', Wiley, 1980.   N.B. Various transformations are used in the table on\n",
        "pages 244-261 of the latter.\n",
        "\n",
        "The Boston house-price data has been used in many machine learning papers that address regression\n",
        "problems.   \n",
        "     \n",
        "**References**\n",
        "\n",
        "   - Belsley, Kuh & Welsch, 'Regression diagnostics: Identifying Influential Data and Sources of Collinearity', Wiley, 1980. 244-261.\n",
        "   - Quinlan,R. (1993). Combining Instance-Based and Model-Based Learning. In Proceedings on the Tenth International Conference of Machine Learning, 236-243, University of Massachusetts, Amherst. Morgan Kaufmann.\n",
        "   - many more! (see https://archive.ics.uci.edu/ml/machine-learning-databases/housing/)\n",
        "\n",
        "\n",
        "\n",
        "\n",
        "\n",
        "<b>Let's get more familiar with the dataset. Load the data by running the following code.</b>\n"
      ]
    },
    {
      "metadata": {
        "id": "dmljd9Lp7pDL",
        "colab_type": "code",
        "colab": {
          "autoexec": {
            "startup": false,
            "wait_interval": 0
          }
        }
      },
      "cell_type": "code",
      "source": [
        "# Loading the data\n",
        "\n",
        "def load_data():\n",
        "    from sklearn.datasets import load_boston\n",
        "    from sklearn.model_selection import train_test_split\n",
        "    \n",
        "    boston = load_boston()\n",
        "    \n",
        "    train_set_x, test_set_x, train_set_y, test_set_y = train_test_split(boston.data, boston.target, test_size=0.33, random_state=42)\n",
        "\n",
        "    train_set_y = train_set_y.reshape((1, train_set_y.shape[0]))\n",
        "    test_set_y = test_set_y.reshape((1, test_set_y.shape[0]))\n",
        "    \n",
        "    return train_set_x.T, train_set_y, test_set_x.T, test_set_y, boston\n",
        "\n",
        "train_set_x, train_set_y, test_set_x, test_set_y, visualization_set = load_data()"
      ],
      "execution_count": 0,
      "outputs": []
    },
    {
      "metadata": {
        "id": "0VCGwZMM7pDO",
        "colab_type": "code",
        "colab": {
          "autoexec": {
            "startup": false,
            "wait_interval": 0
          },
          "base_uri": "https://localhost:8080/",
          "height": 34
        },
        "outputId": "9c08ab9f-130c-4eb8-bcf2-673720cb9a6d",
        "executionInfo": {
          "status": "ok",
          "timestamp": 1527765486072,
          "user_tz": -180,
          "elapsed": 549,
          "user": {
            "displayName": "Анастасия Куцык",
            "photoUrl": "//lh4.googleusercontent.com/-ulsJVyZZyKo/AAAAAAAAAAI/AAAAAAAABJQ/UJjvXCFmj9w/s50-c-k-no/photo.jpg",
            "userId": "110879980818764228069"
          }
        }
      },
      "cell_type": "code",
      "source": [
        "print(train_set_x.shape, train_set_y.shape, test_set_x.shape, test_set_y.shape)"
      ],
      "execution_count": 3,
      "outputs": [
        {
          "output_type": "stream",
          "text": [
            "(13, 339) (1, 339) (13, 167) (1, 167)\n"
          ],
          "name": "stdout"
        }
      ]
    },
    {
      "metadata": {
        "id": "i64yv8467pDQ",
        "colab_type": "text"
      },
      "cell_type": "markdown",
      "source": [
        "Many software bugs in machine learning come from having matrix/vector dimensions that don't fit. If you can keep your matrix/vector dimensions straight you will go a long way toward eliminating many bugs. \n",
        "\n",
        "**Exercise:** Find the values for:\n",
        "    - m_train (number of training examples)\n",
        "    - m_test (number of test examples)\n",
        "Remember that `train_set_x` is a numpy-array of shape (number of features, number of examples). For instance, you can access `m_train` by writing `train_set_x.shape[1]`."
      ]
    },
    {
      "metadata": {
        "id": "n6w6Nh_67pDR",
        "colab_type": "code",
        "colab": {
          "autoexec": {
            "startup": false,
            "wait_interval": 0
          },
          "base_uri": "https://localhost:8080/",
          "height": 136
        },
        "outputId": "2e8379e3-7ffc-4ab1-d904-96824b3c15ee",
        "executionInfo": {
          "status": "ok",
          "timestamp": 1527765486729,
          "user_tz": -180,
          "elapsed": 616,
          "user": {
            "displayName": "Анастасия Куцык",
            "photoUrl": "//lh4.googleusercontent.com/-ulsJVyZZyKo/AAAAAAAAAAI/AAAAAAAABJQ/UJjvXCFmj9w/s50-c-k-no/photo.jpg",
            "userId": "110879980818764228069"
          }
        }
      },
      "cell_type": "code",
      "source": [
        "### START CODE HERE ### (≈ 2 lines of code)\n",
        "m_train = train_set_x.shape[1]\n",
        "m_test = test_set_x.shape[1]\n",
        "### END CODE HERE ###\n",
        "\n",
        "print (\"Number of training examples: m_train = \" + str(m_train))\n",
        "print (\"Number of testing examples: m_test = \" + str(m_test))\n",
        "\n",
        "print (\"\\ntrain_set_x shape: \" + str(train_set_x.shape))\n",
        "print (\"train_set_y shape: \" + str(train_set_y.shape))\n",
        "print (\"test_set_x shape: \" + str(test_set_x.shape))\n",
        "print (\"test_set_y shape: \" + str(test_set_y.shape))"
      ],
      "execution_count": 4,
      "outputs": [
        {
          "output_type": "stream",
          "text": [
            "Number of training examples: m_train = 339\n",
            "Number of testing examples: m_test = 167\n",
            "\n",
            "train_set_x shape: (13, 339)\n",
            "train_set_y shape: (1, 339)\n",
            "test_set_x shape: (13, 167)\n",
            "test_set_y shape: (1, 167)\n"
          ],
          "name": "stdout"
        }
      ]
    },
    {
      "metadata": {
        "id": "_X0p7Lyq7pDS",
        "colab_type": "text"
      },
      "cell_type": "markdown",
      "source": [
        "**Expected Output for m_train, m_test**: \n",
        "<table style=\"width:15%\">\n",
        "  <tr>\n",
        "    <td>**m_train**</td>\n",
        "    <td> 339 </td> \n",
        "  </tr>\n",
        "  \n",
        "  <tr>\n",
        "    <td>**m_test**</td>\n",
        "    <td> 167 </td> \n",
        "  </tr>\n",
        "</table>\n"
      ]
    },
    {
      "metadata": {
        "id": "-DVmWM6O7pDT",
        "colab_type": "text"
      },
      "cell_type": "markdown",
      "source": [
        "### Data visualization"
      ]
    },
    {
      "metadata": {
        "id": "WueRLLQx7pDT",
        "colab_type": "text"
      },
      "cell_type": "markdown",
      "source": [
        "Let's plot a histogram of the quantity we want to predict: namely, the house `price`."
      ]
    },
    {
      "metadata": {
        "id": "-_clsKHu7pDU",
        "colab_type": "code",
        "colab": {
          "autoexec": {
            "startup": false,
            "wait_interval": 0
          },
          "base_uri": "https://localhost:8080/",
          "height": 225
        },
        "outputId": "cece282f-99f8-42d0-aa92-50a9c8dee3d7",
        "executionInfo": {
          "status": "ok",
          "timestamp": 1527765490884,
          "user_tz": -180,
          "elapsed": 579,
          "user": {
            "displayName": "Анастасия Куцык",
            "photoUrl": "//lh4.googleusercontent.com/-ulsJVyZZyKo/AAAAAAAAAAI/AAAAAAAABJQ/UJjvXCFmj9w/s50-c-k-no/photo.jpg",
            "userId": "110879980818764228069"
          }
        }
      },
      "cell_type": "code",
      "source": [
        "plt.figure(figsize=(4, 3))\n",
        "plt.hist(visualization_set.target)\n",
        "plt.xlabel(\"Price ($1000s)\")\n",
        "plt.ylabel(\"Count\")\n",
        "plt.tight_layout()"
      ],
      "execution_count": 5,
      "outputs": [
        {
          "output_type": "display_data",
          "data": {
            "image/png": "[encoded data removed]",
            "text/plain": [
              "<matplotlib.figure.Figure at 0x7fbeabe3c0f0>"
            ]
          },
          "metadata": {
            "tags": []
          }
        }
      ]
    },
    {
      "metadata": {
        "id": "e4krOH0D7pDV",
        "colab_type": "text"
      },
      "cell_type": "markdown",
      "source": [
        "And it is very useful to understand the join histogram for each feature"
      ]
    },
    {
      "metadata": {
        "id": "UjFawKd87pDW",
        "colab_type": "code",
        "colab": {
          "autoexec": {
            "startup": false,
            "wait_interval": 0
          },
          "base_uri": "https://localhost:8080/",
          "height": 2721
        },
        "outputId": "d4df9c50-a0aa-43b8-969a-44defe1afd68",
        "executionInfo": {
          "status": "ok",
          "timestamp": 1527765496098,
          "user_tz": -180,
          "elapsed": 2600,
          "user": {
            "displayName": "Анастасия Куцык",
            "photoUrl": "//lh4.googleusercontent.com/-ulsJVyZZyKo/AAAAAAAAAAI/AAAAAAAABJQ/UJjvXCFmj9w/s50-c-k-no/photo.jpg",
            "userId": "110879980818764228069"
          }
        }
      },
      "cell_type": "code",
      "source": [
        "for index, feature_name in enumerate(visualization_set.feature_names):\n",
        "    plt.figure(figsize=(4, 3))\n",
        "    plt.scatter(visualization_set.data[:, index], visualization_set.target)\n",
        "    plt.ylabel(\"Price\", size=15)\n",
        "    plt.xlabel(feature_name, size=15)\n",
        "    plt.tight_layout()"
      ],
      "execution_count": 6,
      "outputs": [
        {
          "output_type": "display_data",
          "data": {
            "image/png": "[encoded data removed]",
            "text/plain": [
              "<matplotlib.figure.Figure at 0x7fbea77af2b0>"
            ]
          },
          "metadata": {
            "tags": []
          }
        },
        {
          "output_type": "display_data",
          "data": {
            "image/png": "[encoded data removed]",
            "text/plain": [
              "<matplotlib.figure.Figure at 0x7fbea773ef60>"
            ]
          },
          "metadata": {
            "tags": []
          }
        },
        {
          "output_type": "display_data",
          "data": {
            "image/png": "[encoded data removed]",
            "text/plain": [
              "<matplotlib.figure.Figure at 0x7fbea77ab358>"
            ]
          },
          "metadata": {
            "tags": []
          }
        },
        {
          "output_type": "display_data",
          "data": {
            "image/png": "[encoded data removed]",
            "text/plain": [
              "<matplotlib.figure.Figure at 0x7fbea7747278>"
            ]
          },
          "metadata": {
            "tags": []
          }
        },
        {
          "output_type": "display_data",
          "data": {
            "image/png": "[encoded data removed]",
            "text/plain": [
              "<matplotlib.figure.Figure at 0x7fbea7635898>"
            ]
          },
          "metadata": {
            "tags": []
          }
        },
        {
          "output_type": "display_data",
          "data": {
            "image/png": "[encoded data removed]",
            "text/plain": [
              "<matplotlib.figure.Figure at 0x7fbea7739b00>"
            ]
          },
          "metadata": {
            "tags": []
          }
        },
        {
          "output_type": "display_data",
          "data": {
            "image/png": "[encoded data removed]",
            "text/plain": [
              "<matplotlib.figure.Figure at 0x7fbea7563cc0>"
            ]
          },
          "metadata": {
            "tags": []
          }
        },
        {
          "output_type": "display_data",
          "data": {
            "image/png": "[encoded data removed]",
            "text/plain": [
              "<matplotlib.figure.Figure at 0x7fbea7511518>"
            ]
          },
          "metadata": {
            "tags": []
          }
        },
        {
          "output_type": "display_data",
          "data": {
            "image/png": "[encoded data removed]",
            "text/plain": [
              "<matplotlib.figure.Figure at 0x7fbea7498a58>"
            ]
          },
          "metadata": {
            "tags": []
          }
        },
        {
          "output_type": "display_data",
          "data": {
            "image/png": "[encoded data removed]",
            "text/plain": [
              "<matplotlib.figure.Figure at 0x7fbec0c25048>"
            ]
          },
          "metadata": {
            "tags": []
          }
        },
        {
          "output_type": "display_data",
          "data": {
            "image/png": "[encoded data removed]",
            "text/plain": [
              "<matplotlib.figure.Figure at 0x7fbea77ef278>"
            ]
          },
          "metadata": {
            "tags": []
          }
        },
        {
          "output_type": "display_data",
          "data": {
            "image/png": "[encoded data removed]",
            "text/plain": [
              "<matplotlib.figure.Figure at 0x7fbea77aff98>"
            ]
          },
          "metadata": {
            "tags": []
          }
        },
        {
          "output_type": "display_data",
          "data": {
            "image/png": "[encoded data removed]",
            "text/plain": [
              "<matplotlib.figure.Figure at 0x7fbea73d6048>"
            ]
          },
          "metadata": {
            "tags": []
          }
        }
      ]
    },
    {
      "metadata": {
        "id": "bKlDCmni7pDX",
        "colab_type": "text"
      },
      "cell_type": "markdown",
      "source": [
        "### Standardization\n",
        "One common preprocessing step in machine learning is to center and standardize your dataset, meaning that you substract the mean of the whole numpy array from each example, and then divide each example by the standard deviation of the whole numpy array.\n",
        "\n",
        "$$X_{new} = \\frac{X - \\mu}{\\sigma}$$\n",
        "\n",
        "Let's standardize our dataset."
      ]
    },
    {
      "metadata": {
        "id": "NNDmb4qd7pDY",
        "colab_type": "code",
        "colab": {
          "autoexec": {
            "startup": false,
            "wait_interval": 0
          }
        }
      },
      "cell_type": "code",
      "source": [
        "all_set_x = np.concatenate([train_set_x, test_set_x], axis=1)\n",
        "\n",
        "mean = all_set_x.mean(axis=1, keepdims=True)\n",
        "std = all_set_x.std(axis=1, keepdims=True)\n",
        "\n",
        "train_set_x = (train_set_x - mean) / std\n",
        "test_set_x = (test_set_x - mean) / std"
      ],
      "execution_count": 0,
      "outputs": []
    },
    {
      "metadata": {
        "id": "PdgVZrFU7pDZ",
        "colab_type": "text"
      },
      "cell_type": "markdown",
      "source": [
        "## 3 - General Architecture of the learning algorithm ##\n",
        "\n",
        "**Mathematical expression of the algorithm**:\n",
        "\n",
        "\n",
        "For one example $x^{(i)}$:\n",
        "$$h^{(i)} =  w^T x^{(i)} + b \\tag{1}$$\n",
        "\n",
        "The cost is then computed by summing squared diff over all training examples:\n",
        "$$J = \\frac{1}{2m}\\sum_{i=1}^{m}(h^{(i)} - y^{(i)})^{2}\\tag{2}$$\n",
        "\n",
        "**Key steps**:\n",
        "In this exercise, you will carry out the following steps: \n",
        "    - Initialize the parameters of the model\n",
        "    - Learn the parameters for the model by minimizing the cost  \n",
        "    - Use the learned parameters to make predictions (on the test set)\n",
        "    - Analyse the results and derive a conclusion"
      ]
    },
    {
      "metadata": {
        "id": "2gqg5G5J7pDa",
        "colab_type": "text"
      },
      "cell_type": "markdown",
      "source": [
        "## 4 - Building the parts of our algorithm ## \n",
        "\n",
        "The main steps for building a learning algorithm:\n",
        "1. Define the model structure (such as number of input features) \n",
        "2. Initialize the model's parameters\n",
        "3. Loop:\n",
        "    - Calculate current loss (forward propagation)\n",
        "    - Calculate current gradient (backward propagation)\n",
        "    - Update parameters (gradient descent)\n",
        "\n",
        "You often build 1-3 separately and integrate them into one function we call `model()`."
      ]
    },
    {
      "metadata": {
        "id": "KvwFCEKE7pDa",
        "colab_type": "text"
      },
      "cell_type": "markdown",
      "source": [
        "### 4.1 - Initializing parameters\n",
        "\n",
        "**Exercise:** Implement parameter initialization in the cell below. You have to initialize `w` as a vector of zeros. If you don't know what numpy function to use, look up `np.zeros()` in the Numpy library's documentation."
      ]
    },
    {
      "metadata": {
        "id": "MQ9arOhf7pDb",
        "colab_type": "code",
        "colab": {
          "autoexec": {
            "startup": false,
            "wait_interval": 0
          }
        }
      },
      "cell_type": "code",
      "source": [
        "# GRADED FUNCTION: initialize_with_zeros\n",
        "\n",
        "def initialize_with_zeros(dim):\n",
        "    \"\"\"\n",
        "    This function creates a vector of zeros of shape (dim, 1) for w and initializes b to 0.\n",
        "    \n",
        "    Argument:\n",
        "    dim -- size of the w vector we want (or number of parameters in this case)\n",
        "    \n",
        "    Returns:\n",
        "    w -- initialized vector of shape (dim, 1)\n",
        "    b -- initialized scalar (corresponds to the bias)\n",
        "    \"\"\"\n",
        "    \n",
        "    ### START CODE HERE ### (≈ 2 lines of code)\n",
        "    w = np.zeros([dim,1])\n",
        "    b = 0\n",
        "    ### END CODE HERE ###\n",
        "\n",
        "    assert(w.shape == (dim, 1))\n",
        "    assert(isinstance(b, float) or isinstance(b, int))\n",
        "    \n",
        "    return w, b"
      ],
      "execution_count": 0,
      "outputs": []
    },
    {
      "metadata": {
        "id": "T4IyBTn37pDc",
        "colab_type": "code",
        "colab": {
          "autoexec": {
            "startup": false,
            "wait_interval": 0
          },
          "base_uri": "https://localhost:8080/",
          "height": 68
        },
        "outputId": "2b683e08-0d3d-45fa-e679-aff82edbb3e8",
        "executionInfo": {
          "status": "ok",
          "timestamp": 1527765509481,
          "user_tz": -180,
          "elapsed": 586,
          "user": {
            "displayName": "Анастасия Куцык",
            "photoUrl": "//lh4.googleusercontent.com/-ulsJVyZZyKo/AAAAAAAAAAI/AAAAAAAABJQ/UJjvXCFmj9w/s50-c-k-no/photo.jpg",
            "userId": "110879980818764228069"
          }
        }
      },
      "cell_type": "code",
      "source": [
        "\n",
        "dim = 2\n",
        "w, b = initialize_with_zeros(dim)\n",
        "print (\"w = \" + str(w))\n",
        "print (\"b = \" + str(b))"
      ],
      "execution_count": 9,
      "outputs": [
        {
          "output_type": "stream",
          "text": [
            "w = [[0.]\n",
            " [0.]]\n",
            "b = 0\n"
          ],
          "name": "stdout"
        }
      ]
    },
    {
      "metadata": {
        "id": "g91WahqD7pDe",
        "colab_type": "text"
      },
      "cell_type": "markdown",
      "source": [
        "**Expected Output**: \n",
        "\n",
        "\n",
        "<table style=\"width:15%\">\n",
        "    <tr>\n",
        "        <td>  ** w **  </td>\n",
        "        <td> [[ 0.]\n",
        " [ 0.]] </td>\n",
        "    </tr>\n",
        "    <tr>\n",
        "        <td>  ** b **  </td>\n",
        "        <td> 0 </td>\n",
        "    </tr>\n",
        "</table>"
      ]
    },
    {
      "metadata": {
        "id": "2jvQrlq67pDf",
        "colab_type": "text"
      },
      "cell_type": "markdown",
      "source": [
        "### 4.2 - Forward and Backward propagation\n",
        "\n",
        "Now that your parameters are initialized, you can do the \"forward\" and \"backward\" propagation steps for learning the parameters.\n",
        "\n",
        "**Exercise:** Implement a function `propagate()` that computes the cost function and its gradient.\n",
        "\n",
        "**Hints**:\n",
        "\n",
        "Forward Propagation:\n",
        "- You get X\n",
        "- You compute $H = (w^T X + b) = (h^{(1)}, h^{(2)}, ..., h^{(m-1)}, h^{(m)})$\n",
        "- You calculate the cost function: $J = \\frac{1}{2m}\\sum_{i=1}^{m}(h^{(i)} - y^{(i)})^{2}$\n",
        "\n",
        "\n",
        "Here is the formula of gradient of the cost function: \n",
        "\n",
        "$$ \\frac{\\partial J}{\\partial w} = \\frac{1}{m}X(H-Y)^T\\tag{3}$$\n",
        "$$ \\frac{\\partial J}{\\partial b} = \\frac{1}{m} \\sum_{i=1}^m (h^{(i)}-y^{(i)})\\tag{4}$$\n"
      ]
    },
    {
      "metadata": {
        "id": "mFBhGibF7pDf",
        "colab_type": "code",
        "colab": {
          "autoexec": {
            "startup": false,
            "wait_interval": 0
          }
        }
      },
      "cell_type": "code",
      "source": [
        "def propagate(w, b, X, Y):\n",
        "    \"\"\"\n",
        "    Implement the cost function and its gradient for the propagation explained above\n",
        "\n",
        "    Arguments:\n",
        "    w -- weights, a numpy array of size (number of features, 1)\n",
        "    b -- bias, a scalar\n",
        "    X -- data of shape (number of features, number of examples)\n",
        "    Y -- results of shape (1, number of examples)\n",
        "    \n",
        "    Return:\n",
        "    cost -- cost function for linear regression\n",
        "    dw -- gradient of the loss with respect to w, thus same shape as w\n",
        "    db -- gradient of the loss with respect to b, thus same shape as b\n",
        "    \n",
        "    Tips:\n",
        "    - Write your code step by step for the propagation.\n",
        "    - Use np.dot() to avoid for-loops in favor of code vectorization\n",
        "    \"\"\"\n",
        "    \n",
        "    m = X.shape[1]\n",
        "    \n",
        "    # FORWARD PROPAGATION (FROM X TO COST)\n",
        "    ### START CODE HERE ### (≈ 2 lines of code)\n",
        "    H = np.dot(w.T,X) + b  # compute activation\n",
        "    cost =(1.0 / (2 * m)) * np.sum((H-Y)**2)   # compute cost\n",
        "    ### END CODE HERE ###\n",
        "\n",
        "    # BACKWARD PROPAGATION (TO FIND GRAD)\n",
        "    ### START CODE HERE ### (≈ 2 lines of code)\n",
        "    dw = 1 / m *(np.dot(X,(H - Y).T))\n",
        "    db = 1 / m *(np.sum(H - Y))\n",
        "    ### END CODE HERE ###\n",
        "    \n",
        "    assert(dw.shape == w.shape)\n",
        "    assert(db.dtype == float)\n",
        "    cost = np.squeeze(cost)\n",
        "    assert(cost.shape == ())\n",
        "    \n",
        "    grads = {\"dw\": dw,\n",
        "             \"db\": db}\n",
        "    \n",
        "    return grads, cost"
      ],
      "execution_count": 0,
      "outputs": []
    },
    {
      "metadata": {
        "id": "tMZvR8z87pDh",
        "colab_type": "code",
        "colab": {
          "autoexec": {
            "startup": false,
            "wait_interval": 0
          },
          "base_uri": "https://localhost:8080/",
          "height": 85
        },
        "outputId": "86ac1e47-2e83-4336-80ac-ad93ea27ea30",
        "executionInfo": {
          "status": "ok",
          "timestamp": 1527765513872,
          "user_tz": -180,
          "elapsed": 677,
          "user": {
            "displayName": "Анастасия Куцык",
            "photoUrl": "//lh4.googleusercontent.com/-ulsJVyZZyKo/AAAAAAAAAAI/AAAAAAAABJQ/UJjvXCFmj9w/s50-c-k-no/photo.jpg",
            "userId": "110879980818764228069"
          }
        }
      },
      "cell_type": "code",
      "source": [
        "w, b, X, Y = np.array([[1.],[2.]]), 2., np.array([[1.,2.,-1.],[3.,4.,-3.2]]), np.array([[1,0,1]])\n",
        "grads, cost = propagate(w, b, X, Y)\n",
        "print (\"dw = \" + str(grads[\"dw\"]))\n",
        "print (\"db = \" + str(grads[\"db\"]))\n",
        "print (\"cost = \" + str(cost))"
      ],
      "execution_count": 11,
      "outputs": [
        {
          "output_type": "stream",
          "text": [
            "dw = [[12.8       ]\n",
            " [30.82666667]]\n",
            "db = 4.533333333333333\n",
            "cost = 41.49333333333333\n"
          ],
          "name": "stdout"
        }
      ]
    },
    {
      "metadata": {
        "id": "26hJn4e_7pDi",
        "colab_type": "text"
      },
      "cell_type": "markdown",
      "source": [
        "**Expected Output**:\n",
        "\n",
        "<table style=\"width:50%\">\n",
        "    <tr>\n",
        "        <td>  ** dw **  </td>\n",
        "      <td> [[ 12.8]\n",
        "     [ 30.82666667]]</td>\n",
        "    </tr>\n",
        "    <tr>\n",
        "        <td>  ** db **  </td>\n",
        "        <td> 4.533333333333333 </td>\n",
        "    </tr>\n",
        "    <tr>\n",
        "        <td>  ** cost **  </td>\n",
        "        <td> 41.49333333333333 </td>\n",
        "    </tr>\n",
        "\n",
        "</table>"
      ]
    },
    {
      "metadata": {
        "id": "MC5c2iZB7pDi",
        "colab_type": "text"
      },
      "cell_type": "markdown",
      "source": [
        "### 4.3 - Optimization\n",
        "- You have initialized your parameters.\n",
        "- You are also able to compute a cost function and its gradient.\n",
        "- Now, you want to update the parameters using gradient descent.\n",
        "\n",
        "**Exercise:** Write down the optimization function. The goal is to learn $w$ and $b$ by minimizing the cost function $J$. For a parameter $\\theta$, the update rule is $ \\theta = \\theta - \\alpha \\text{ } \\partial\\theta$, where $\\alpha$ is the learning rate."
      ]
    },
    {
      "metadata": {
        "id": "wt6ZvRqF7pDj",
        "colab_type": "code",
        "colab": {
          "autoexec": {
            "startup": false,
            "wait_interval": 0
          }
        }
      },
      "cell_type": "code",
      "source": [
        "# GRADED FUNCTION: optimize\n",
        "\n",
        "def optimize(w, b, X, Y, num_iterations, learning_rate, print_cost=False):\n",
        "    \"\"\"\n",
        "    This function optimizes w and b by running a gradient descent algorithm\n",
        "    \n",
        "    Arguments:\n",
        "    w -- weights, a numpy array of size (number of features, 1)\n",
        "    b -- bias, a scalar\n",
        "    X -- data of shape (number of features, number of examples)\n",
        "    Y -- results of shape (1, number of examples)\n",
        "    num_iterations -- number of iterations of the optimization loop\n",
        "    learning_rate -- learning rate of the gradient descent update rule\n",
        "    print_cost -- True to print the loss every 100 steps\n",
        "    \n",
        "    Returns:\n",
        "    params -- dictionary containing the weights w and bias b\n",
        "    grads -- dictionary containing the gradients of the weights and bias with respect to the cost function\n",
        "    costs -- list of all the costs computed during the optimization, this will be used to plot the learning curve.\n",
        "    \n",
        "    Tips:\n",
        "    You basically need to write down two steps and iterate through them:\n",
        "        1) Calculate the cost and the gradient for the current parameters. Use propagate().\n",
        "        2) Update the parameters using gradient descent rule for w and b.\n",
        "    \"\"\"\n",
        "    \n",
        "    costs = []\n",
        "    \n",
        "    for i in range(num_iterations):\n",
        "        \n",
        "        \n",
        "        # Cost and gradient calculation (≈ 1 line of code)\n",
        "        ### START CODE HERE ### \n",
        "        grads, cost = propagate(w, b, X, Y)\n",
        "        ### END CODE HERE ###\n",
        "\n",
        "        # Retrieve derivatives from grads\n",
        "        dw = grads[\"dw\"]\n",
        "        db = grads[\"db\"]\n",
        "        \n",
        "        # update rule (≈ 2 lines of code)\n",
        "        ### START CODE HERE ###\n",
        "        w = w - learning_rate*dw\n",
        "        b = b - learning_rate*db\n",
        "        ### END CODE HERE ###\n",
        "        \n",
        "        # Record the costs\n",
        "        if i % 100 == 0:\n",
        "            costs.append(cost)\n",
        "        \n",
        "        # Print the cost every 100 training iterations\n",
        "        if print_cost and i % 100 == 0:\n",
        "            print (\"Cost after iteration %i: %f\" %(i, cost))\n",
        "    \n",
        "    params = {\"w\": w,\n",
        "              \"b\": b}\n",
        "    \n",
        "    grads = {\"dw\": dw,\n",
        "             \"db\": db}\n",
        "    \n",
        "    return params, grads, costs"
      ],
      "execution_count": 0,
      "outputs": []
    },
    {
      "metadata": {
        "id": "bD3sOXfO7pDk",
        "colab_type": "code",
        "colab": {
          "autoexec": {
            "startup": false,
            "wait_interval": 0
          },
          "base_uri": "https://localhost:8080/",
          "height": 119
        },
        "outputId": "ba393458-2be8-4586-8a0a-bc5c29712d58",
        "executionInfo": {
          "status": "ok",
          "timestamp": 1527765519723,
          "user_tz": -180,
          "elapsed": 578,
          "user": {
            "displayName": "Анастасия Куцык",
            "photoUrl": "//lh4.googleusercontent.com/-ulsJVyZZyKo/AAAAAAAAAAI/AAAAAAAABJQ/UJjvXCFmj9w/s50-c-k-no/photo.jpg",
            "userId": "110879980818764228069"
          }
        }
      },
      "cell_type": "code",
      "source": [
        "params, grads, costs = optimize(w, b, X, Y, num_iterations=100, learning_rate=0.009, print_cost=False)\n",
        "\n",
        "print (\"w = \" + str(params[\"w\"]))\n",
        "print (\"b = \" + str(params[\"b\"]))\n",
        "print (\"dw = \" + str(grads[\"dw\"]))\n",
        "print (\"db = \" + str(grads[\"db\"]))"
      ],
      "execution_count": 13,
      "outputs": [
        {
          "output_type": "stream",
          "text": [
            "w = [[-0.04675219]\n",
            " [-0.12676061]]\n",
            "b = 1.223758731602527\n",
            "dw = [[ 0.12274692]\n",
            " [-0.09406359]]\n",
            "db = 0.36833971156600487\n"
          ],
          "name": "stdout"
        }
      ]
    },
    {
      "metadata": {
        "id": "NW0njAnm7pDl",
        "colab_type": "text"
      },
      "cell_type": "markdown",
      "source": [
        "**Expected Output**: \n",
        "\n",
        "<table style=\"width:40%\">\n",
        "    <tr>\n",
        "       <td> **w** </td>\n",
        "       <td>[[-0.04675219]\n",
        " [-0.12676061]] </td>\n",
        "    </tr>\n",
        "    \n",
        "    <tr>\n",
        "       <td> **b** </td>\n",
        "       <td> 1.223758731602527 </td>\n",
        "    </tr>\n",
        "    <tr>\n",
        "       <td> **dw** </td>\n",
        "       <td> [[ 0.12274692]\n",
        " [-0.09406359]] </td>\n",
        "    </tr>\n",
        "    <tr>\n",
        "       <td> **db** </td>\n",
        "       <td> 0.36833971156600487 </td>\n",
        "    </tr>\n",
        "\n",
        "</table>"
      ]
    },
    {
      "metadata": {
        "id": "j4MMMGL37pDl",
        "colab_type": "text"
      },
      "cell_type": "markdown",
      "source": [
        "**Exercise:** The previous function will output the learned w and b. We are able to use w and b to predict the labels for a dataset X. Implement the `predict()` function. There is only one step to computing predictions:\n",
        "\n",
        "Calculate $H = w^T X + b$"
      ]
    },
    {
      "metadata": {
        "id": "WdousVIc7pDl",
        "colab_type": "code",
        "colab": {
          "autoexec": {
            "startup": false,
            "wait_interval": 0
          }
        }
      },
      "cell_type": "code",
      "source": [
        "# GRADED FUNCTION: predict\n",
        "\n",
        "def predict(w, b, X):\n",
        "    \"\"\"\n",
        "    Predict using learned linear regression parameters (w, b)\n",
        "    \n",
        "    Arguments:\n",
        "    w -- weights, a numpy array of size (number of features, 1)\n",
        "    b -- bias, a scalar\n",
        "    X -- data of shape (number of features, number of examples)\n",
        "    \n",
        "    Returns:\n",
        "    H -- a numpy array (vector) containing all predictions for the examples in X\n",
        "    \"\"\"\n",
        "    \n",
        "    m = X.shape[1]\n",
        "    \n",
        "    # Compute vector \"H\"\n",
        "    ### START CODE HERE ### (≈ 1 line of code)\n",
        "    H = np.dot(w.T,X) + b\n",
        "    ### END CODE HERE ###\n",
        "    \n",
        "    assert(H.shape == (1, m))\n",
        "    \n",
        "    return H"
      ],
      "execution_count": 0,
      "outputs": []
    },
    {
      "metadata": {
        "id": "0OHK53Bl7pDn",
        "colab_type": "code",
        "colab": {
          "autoexec": {
            "startup": false,
            "wait_interval": 0
          },
          "base_uri": "https://localhost:8080/",
          "height": 34
        },
        "outputId": "fb12a115-e9e7-42fa-9e7a-fd89b9cbbd2b",
        "executionInfo": {
          "status": "ok",
          "timestamp": 1527765527760,
          "user_tz": -180,
          "elapsed": 810,
          "user": {
            "displayName": "Анастасия Куцык",
            "photoUrl": "//lh4.googleusercontent.com/-ulsJVyZZyKo/AAAAAAAAAAI/AAAAAAAABJQ/UJjvXCFmj9w/s50-c-k-no/photo.jpg",
            "userId": "110879980818764228069"
          }
        }
      },
      "cell_type": "code",
      "source": [
        "w = np.array([[0.1124579],[0.23106775]])\n",
        "b = -0.3\n",
        "X = np.array([[1.,-1.1,-3.2],[1.2,2.,0.1]])\n",
        "print (\"predictions = \" + str(predict(w, b, X)))"
      ],
      "execution_count": 15,
      "outputs": [
        {
          "output_type": "stream",
          "text": [
            "predictions = [[ 0.0897392   0.03843181 -0.6367585 ]]\n"
          ],
          "name": "stdout"
        }
      ]
    },
    {
      "metadata": {
        "id": "dcz7pnXu7pDp",
        "colab_type": "text"
      },
      "cell_type": "markdown",
      "source": [
        "**Expected Output**: \n",
        "\n",
        "<table style=\"width:30%\">\n",
        "    <tr>\n",
        "         <td>\n",
        "             **predictions**\n",
        "         </td>\n",
        "          <td>\n",
        "            [[ 0.0897392   0.03843181 -0.6367585]]\n",
        "         </td>  \n",
        "   </tr>\n",
        "\n",
        "</table>\n"
      ]
    },
    {
      "metadata": {
        "id": "2B6xod6i7pDp",
        "colab_type": "text"
      },
      "cell_type": "markdown",
      "source": [
        "<font color='green'>\n",
        "**What to remember:**\n",
        "You've implemented several functions that:\n",
        "- Initialize (w,b)\n",
        "- Optimize the loss iteratively to learn parameters (w,b):\n",
        "    - computing the cost and its gradient \n",
        "    - updating the parameters using gradient descent\n",
        "- Use the learned (w,b) to predict the value for a given set of examples"
      ]
    },
    {
      "metadata": {
        "id": "97CCXSTc7pDq",
        "colab_type": "text"
      },
      "cell_type": "markdown",
      "source": [
        "## 5 - Merge all functions into a model ##\n",
        "\n",
        "You will now see how the overall model is structured by putting together all the building blocks (functions implemented in the previous parts) together, in the right order.\n",
        "\n",
        "**Exercise:** Implement the model function. Use the following notation:\n",
        "    - Y_prediction_test for your predictions on the test set\n",
        "    - Y_prediction_train for your predictions on the train set\n",
        "    - w, costs, grads for the outputs of optimize()"
      ]
    },
    {
      "metadata": {
        "id": "vElrbCj17pDq",
        "colab_type": "code",
        "colab": {
          "autoexec": {
            "startup": false,
            "wait_interval": 0
          }
        }
      },
      "cell_type": "code",
      "source": [
        "# GRADED FUNCTION: model\n",
        "\n",
        "def model(X_train, Y_train, X_test, Y_test, num_iterations=3000, learning_rate=0.5, print_cost=False):\n",
        "    \"\"\"\n",
        "    Builds the linear regression model by calling the function you've implemented previously\n",
        "    \n",
        "    Arguments:\n",
        "    X_train -- training set represented by a numpy array of shape (number of features, m_train)\n",
        "    Y_train -- training values represented by a numpy array (vector) of shape (1, m_train)\n",
        "    X_test -- test set represented by a numpy array of shape (number of features, m_test)\n",
        "    Y_test -- test values represented by a numpy array (vector) of shape (1, m_test)\n",
        "    num_iterations -- hyperparameter representing the number of iterations to optimize the parameters\n",
        "    learning_rate -- hyperparameter representing the learning rate used in the update rule of optimize()\n",
        "    print_cost -- Set to true to print the cost every 100 iterations\n",
        "    \n",
        "    Returns:\n",
        "    d -- dictionary containing information about the model.\n",
        "    \"\"\"\n",
        "    \n",
        "    ### START CODE HERE ###\n",
        "    \n",
        "    # initialize parameters with zeros (≈ 1 line of code)\n",
        "    w, b = initialize_with_zeros(X_train.shape[0]) \n",
        "\n",
        "    # Gradient descent (≈ 1 line of code)\n",
        "    parameters, grads, costs = optimize(w, b, X_train, Y_train, num_iterations, learning_rate, print_cost)\n",
        "    \n",
        "    # Retrieve parameters w and b from dictionary \"parameters\"\n",
        "    w = parameters[\"w\"]\n",
        "    b = parameters[\"b\"]\n",
        "    \n",
        "    # Predict test/train set examples (≈ 2 lines of code)\n",
        "    Y_prediction_test = predict(w, b, X_test)\n",
        "    Y_prediction_train = predict(w, b, X_train)\n",
        "\n",
        "    ### END CODE HERE ###\n",
        "\n",
        "    # Print train/test Errors\n",
        "    print (\"Train RMSE: {} \".format(np.sqrt(np.mean((Y_prediction_train - Y_train) ** 2))))\n",
        "    print (\"Test RMSE: {} \".format(np.sqrt(np.mean((Y_prediction_test - Y_test) ** 2))))\n",
        "    \n",
        "    d = {\"costs\": costs,\n",
        "         \"Y_prediction_test\": Y_prediction_test, \n",
        "         \"Y_prediction_train\" : Y_prediction_train, \n",
        "         \"w\" : w, \n",
        "         \"b\" : b,\n",
        "         \"learning_rate\" : learning_rate,\n",
        "         \"num_iterations\": num_iterations}\n",
        "    \n",
        "    return d"
      ],
      "execution_count": 0,
      "outputs": []
    },
    {
      "metadata": {
        "id": "ZW51Np-97pDr",
        "colab_type": "text"
      },
      "cell_type": "markdown",
      "source": [
        "Run the following cell to train your model."
      ]
    },
    {
      "metadata": {
        "id": "UzkJUInk7pDr",
        "colab_type": "code",
        "colab": {
          "autoexec": {
            "startup": false,
            "wait_interval": 0
          },
          "base_uri": "https://localhost:8080/",
          "height": 561
        },
        "outputId": "0d5791b8-185a-4f77-888a-f3d3be62bf72",
        "executionInfo": {
          "status": "ok",
          "timestamp": 1527765905275,
          "user_tz": -180,
          "elapsed": 646,
          "user": {
            "displayName": "Анастасия Куцык",
            "photoUrl": "//lh4.googleusercontent.com/-ulsJVyZZyKo/AAAAAAAAAAI/AAAAAAAABJQ/UJjvXCFmj9w/s50-c-k-no/photo.jpg",
            "userId": "110879980818764228069"
          }
        }
      },
      "cell_type": "code",
      "source": [
        "d = model(train_set_x, train_set_y, test_set_x, test_set_y, num_iterations=3000, learning_rate=0.05, print_cost=True)"
      ],
      "execution_count": 23,
      "outputs": [
        {
          "output_type": "stream",
          "text": [
            "Cost after iteration 0: 307.900929\n",
            "Cost after iteration 100: 11.792766\n",
            "Cost after iteration 200: 11.584607\n",
            "Cost after iteration 300: 11.532005\n",
            "Cost after iteration 400: 11.511520\n",
            "Cost after iteration 500: 11.501922\n",
            "Cost after iteration 600: 11.497071\n",
            "Cost after iteration 700: 11.494549\n",
            "Cost after iteration 800: 11.493225\n",
            "Cost after iteration 900: 11.492527\n",
            "Cost after iteration 1000: 11.492159\n",
            "Cost after iteration 1100: 11.491964\n",
            "Cost after iteration 1200: 11.491862\n",
            "Cost after iteration 1300: 11.491808\n",
            "Cost after iteration 1400: 11.491779\n",
            "Cost after iteration 1500: 11.491764\n",
            "Cost after iteration 1600: 11.491756\n",
            "Cost after iteration 1700: 11.491752\n",
            "Cost after iteration 1800: 11.491749\n",
            "Cost after iteration 1900: 11.491748\n",
            "Cost after iteration 2000: 11.491748\n",
            "Cost after iteration 2100: 11.491747\n",
            "Cost after iteration 2200: 11.491747\n",
            "Cost after iteration 2300: 11.491747\n",
            "Cost after iteration 2400: 11.491747\n",
            "Cost after iteration 2500: 11.491747\n",
            "Cost after iteration 2600: 11.491747\n",
            "Cost after iteration 2700: 11.491747\n",
            "Cost after iteration 2800: 11.491747\n",
            "Cost after iteration 2900: 11.491747\n",
            "Train RMSE: 4.794110317254089 \n",
            "Test RMSE: 4.554910645676871 \n"
          ],
          "name": "stdout"
        }
      ]
    },
    {
      "metadata": {
        "id": "hYBb1rrW7pDt",
        "colab_type": "text"
      },
      "cell_type": "markdown",
      "source": [
        "**Expected Output**: \n",
        "\n",
        "<table style=\"width:40%\"> \n",
        "    <tr>\n",
        "        <td> **Cost after iteration 0 **  </td> \n",
        "        <td> 307.900929 </td>\n",
        "    </tr>\n",
        "      <tr>\n",
        "        <td> <center> $\\vdots$ </center> </td> \n",
        "        <td> <center> $\\vdots$ </center> </td> \n",
        "    </tr>  \n",
        "    <tr>\n",
        "        <td> **Train RMSE**  </td> \n",
        "        <td> 4.7941103172540895 </td>\n",
        "    </tr>\n",
        "    <tr>\n",
        "        <td>**Test RMSE** </td> \n",
        "        <td> 4.5549106456768715 </td>\n",
        "    </tr>\n",
        "</table> "
      ]
    },
    {
      "metadata": {
        "id": "gwVHicgm7pDt",
        "colab_type": "text"
      },
      "cell_type": "markdown",
      "source": [
        "### Predicted vs True visualization "
      ]
    },
    {
      "metadata": {
        "id": "0aXAh3wz7pDt",
        "colab_type": "code",
        "colab": {
          "autoexec": {
            "startup": false,
            "wait_interval": 0
          },
          "base_uri": "https://localhost:8080/",
          "height": 441
        },
        "outputId": "536a9190-ace6-4e96-f841-2ec8ac01d356",
        "executionInfo": {
          "status": "error",
          "timestamp": 1527633048513,
          "user_tz": -180,
          "elapsed": 797,
          "user": {
            "displayName": "Анастасия Куцык",
            "photoUrl": "//lh4.googleusercontent.com/-ulsJVyZZyKo/AAAAAAAAAAI/AAAAAAAABJQ/UJjvXCFmj9w/s50-c-k-no/photo.jpg",
            "userId": "110879980818764228069"
          }
        }
      },
      "cell_type": "code",
      "source": [
        "# Training set\n",
        "plt.figure(figsize=(4, 3))\n",
        "plt.title(\"Training set\")\n",
        "plt.scatter(train_set_y, d[\"Y_prediction_train\"])\n",
        "plt.plot([0, 50], [0, 50], \"--k\")\n",
        "plt.axis(\"tight\")\n",
        "plt.xlabel(\"True price ($1000s)\")\n",
        "plt.ylabel(\"Predicted price ($1000s)\")\n",
        "plt.tight_layout()\n",
        "\n",
        "# Test set\n",
        "plt.figure(figsize=(4, 3))\n",
        "plt.title(\"Test set\")\n",
        "plt.scatter(test_set_y, d[\"Y_prediction_test\"])\n",
        "plt.plot([0, 50], [0, 50], \"--k\")\n",
        "plt.axis(\"tight\")\n",
        "plt.xlabel(\"True price ($1000s)\")\n",
        "plt.ylabel(\"Predicted price ($1000s)\")\n",
        "plt.tight_layout()"
      ],
      "execution_count": 28,
      "outputs": [
        {
          "output_type": "error",
          "ename": "NameError",
          "evalue": "ignored",
          "traceback": [
            "\u001b[0;31m---------------------------------------------------------------------------\u001b[0m",
            "\u001b[0;31mNameError\u001b[0m                                 Traceback (most recent call last)",
            "\u001b[0;32m<ipython-input-28-33fcf8711f5e>\u001b[0m in \u001b[0;36m<module>\u001b[0;34m()\u001b[0m\n\u001b[1;32m      1\u001b[0m \u001b[0mplt\u001b[0m\u001b[0;34m.\u001b[0m\u001b[0mfigure\u001b[0m\u001b[0;34m(\u001b[0m\u001b[0mfigsize\u001b[0m\u001b[0;34m=\u001b[0m\u001b[0;34m(\u001b[0m\u001b[0;36m4\u001b[0m\u001b[0;34m,\u001b[0m \u001b[0;36m3\u001b[0m\u001b[0;34m)\u001b[0m\u001b[0;34m)\u001b[0m\u001b[0;34m\u001b[0m\u001b[0m\n\u001b[1;32m      2\u001b[0m \u001b[0mplt\u001b[0m\u001b[0;34m.\u001b[0m\u001b[0mtitle\u001b[0m\u001b[0;34m(\u001b[0m\u001b[0;34m\"Training set\"\u001b[0m\u001b[0;34m)\u001b[0m\u001b[0;34m\u001b[0m\u001b[0m\n\u001b[0;32m----> 3\u001b[0;31m \u001b[0mplt\u001b[0m\u001b[0;34m.\u001b[0m\u001b[0mscatter\u001b[0m\u001b[0;34m(\u001b[0m\u001b[0mtrain_set_y\u001b[0m\u001b[0;34m,\u001b[0m \u001b[0md\u001b[0m\u001b[0;34m[\u001b[0m\u001b[0;34m\"Y_prediction_train\"\u001b[0m\u001b[0;34m]\u001b[0m\u001b[0;34m)\u001b[0m\u001b[0;34m\u001b[0m\u001b[0m\n\u001b[0m\u001b[1;32m      4\u001b[0m \u001b[0mplt\u001b[0m\u001b[0;34m.\u001b[0m\u001b[0mplot\u001b[0m\u001b[0;34m(\u001b[0m\u001b[0;34m[\u001b[0m\u001b[0;36m0\u001b[0m\u001b[0;34m,\u001b[0m \u001b[0;36m50\u001b[0m\u001b[0;34m]\u001b[0m\u001b[0;34m,\u001b[0m \u001b[0;34m[\u001b[0m\u001b[0;36m0\u001b[0m\u001b[0;34m,\u001b[0m \u001b[0;36m50\u001b[0m\u001b[0;34m]\u001b[0m\u001b[0;34m,\u001b[0m \u001b[0;34m\"--k\"\u001b[0m\u001b[0;34m)\u001b[0m\u001b[0;34m\u001b[0m\u001b[0m\n\u001b[1;32m      5\u001b[0m \u001b[0mplt\u001b[0m\u001b[0;34m.\u001b[0m\u001b[0maxis\u001b[0m\u001b[0;34m(\u001b[0m\u001b[0;34m\"tight\"\u001b[0m\u001b[0;34m)\u001b[0m\u001b[0;34m\u001b[0m\u001b[0m\n",
            "\u001b[0;31mNameError\u001b[0m: name 'd' is not defined"
          ]
        },
        {
          "output_type": "display_data",
          "data": {
            "image/png": "[encoded data removed]",
            "text/plain": [
              "<matplotlib.figure.Figure at 0x7f62bd039dd8>"
            ]
          },
          "metadata": {
            "tags": []
          }
        }
      ]
    },
    {
      "metadata": {
        "id": "3UnZwo0Y7pDu",
        "colab_type": "text"
      },
      "cell_type": "markdown",
      "source": [
        "**Interpretation**:\n",
        "You can see that in fact there is nice linear dependecy between predicted and true values."
      ]
    }
  ]
}